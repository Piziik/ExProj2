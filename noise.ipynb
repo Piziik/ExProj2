{
 "cells": [
  {
   "cell_type": "markdown",
   "metadata": {},
   "source": [
    "## Handling Noise in the Regression Dataset\n",
    "\n",
    "We noticed that our regression dataset contained noise, which could affect the performance of our model. Noise in the data can arise from measurement errors, uncontrolled variability, or other undesirable factors.\n",
    "\n",
    "### Solution: PCA (Principal Component Analysis)\n",
    "To mitigate the noise, we applied PCA to reduce the dimensionality of our data."
   ]
  },
  {
   "cell_type": "code",
   "execution_count": 1,
   "metadata": {},
   "outputs": [
    {
     "name": "stdout",
     "output_type": "stream",
     "text": [
      "Mean Squared Error (MSE) with PCA: 0.28479284804888955\n"
     ]
    }
   ],
   "source": [
    "from sklearn.decomposition import PCA\n",
    "import pandas as pd\n",
    "from sklearn.linear_model import LinearRegression\n",
    "from sklearn.model_selection import train_test_split\n",
    "from sklearn.metrics import mean_squared_error\n",
    "\n",
    "df = pd.read_csv('Model/VGChartzGamesSalesDataset.csv')\n",
    "\n",
    "df = df.drop(['name', 'img_url', 'release_date'], axis=1)\n",
    "df = pd.get_dummies(df, columns=['publisher', 'genre'])\n",
    "\n",
    "X = df.drop('total_sales', axis=1)\n",
    "y = df['total_sales']\n",
    "\n",
    "pca = PCA(n_components=10)\n",
    "X_pca = pca.fit_transform(X)\n",
    "\n",
    "X_train, X_test, y_train, y_test = train_test_split(X_pca, y, test_size=0.2, random_state=42)\n",
    "\n",
    "model = LinearRegression()\n",
    "model.fit(X_train, y_train)\n",
    "\n",
    "y_pred = model.predict(X_test)\n",
    "mse = mean_squared_error(y_test, y_pred)\n",
    "print(f'Mean Squared Error (MSE) with PCA: {mse}')\n"
   ]
  }
 ],
 "metadata": {
  "kernelspec": {
   "display_name": "Python 3",
   "language": "python",
   "name": "python3"
  },
  "language_info": {
   "codemirror_mode": {
    "name": "ipython",
    "version": 3
   },
   "file_extension": ".py",
   "mimetype": "text/x-python",
   "name": "python",
   "nbconvert_exporter": "python",
   "pygments_lexer": "ipython3",
   "version": "3.9.13"
  }
 },
 "nbformat": 4,
 "nbformat_minor": 2
}
