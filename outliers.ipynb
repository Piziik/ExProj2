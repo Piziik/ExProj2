{
 "cells": [
  {
   "cell_type": "markdown",
   "metadata": {},
   "source": [
    "## Handling Outliers in the Datasets\n",
    "\n",
    "We identified that both our classification and regression datasets contained outliers, which could distort the models' predictions and overall performance. Outliers can arise from various sources, including data entry errors, variability in data collection, or genuine anomalies in the data.\n",
    "\n",
    "### Solution: Isolation Forest\n",
    "To address the outliers, we employed Isolation Forest, an unsupervised learning algorithm specifically designed for anomaly detection. This technique isolates observations in the dataset, identifying outliers based on how easily they can be separated from the rest of the data. By applying Isolation Forest to both the classification and regression datasets, we were able to effectively detect and remove these outliers, enhancing the robustness of our models and improving their predictive performance."
   ]
  },
  {
   "cell_type": "code",
   "execution_count": 16,
   "metadata": {},
   "outputs": [
    {
     "name": "stdout",
     "output_type": "stream",
     "text": [
      "Class distribution before outliers removal: 0    4208\n",
      "1    3916\n",
      "Name: count, dtype: int64\n",
      "Class distribution after outliers removal: 1    3801\n",
      "0    3510\n",
      "Name: count, dtype: int64\n"
     ]
    }
   ],
   "source": [
    "import pandas as pd\n",
    "from sklearn.preprocessing import LabelEncoder\n",
    "from sklearn.ensemble import IsolationForest\n",
    "\n",
    "df_class = pd.read_csv('Model/mushrooms.csv')\n",
    "\n",
    "df_class_encoded = pd.get_dummies(df_class.drop('class', axis=1))\n",
    "le = LabelEncoder()\n",
    "y_class = le.fit_transform(df_class['class'])\n",
    "iso_forest_class = IsolationForest(contamination=0.1, random_state=42)\n",
    "yhat_class = iso_forest_class.fit_predict(df_class_encoded)\n",
    "\n",
    "X_class_no_outliers = df_class_encoded[yhat_class != -1]\n",
    "y_class_no_outliers = y_class[yhat_class != -1]\n",
    "\n",
    "print('Class distribution before outliers removal:', pd.Series(y_class).value_counts())\n",
    "print('Class distribution after outliers removal:', pd.Series(y_class_no_outliers).value_counts())\n"
   ]
  },
  {
   "cell_type": "code",
   "execution_count": 15,
   "metadata": {},
   "outputs": [
    {
     "name": "stdout",
     "output_type": "stream",
     "text": [
      "\n",
      "Shape of X_reg before outlier removal: (37715, 26)\n",
      "Shape of X_reg after outlier removal: (33943, 26)\n",
      "\n",
      "First few rows of cleaned data:\n",
      "    publisher  vgchartz_score  critic_score  user_score  total_shipped  \\\n",
      "0        299        7.310415      7.228117    8.086988       5.066328   \n",
      "1       2542        7.310415      7.228117    8.086988       5.066328   \n",
      "2         96        7.310415      7.228117    8.086988       5.066328   \n",
      "3       1286        7.310415      7.228117    8.086988       5.066328   \n",
      "5       1238        7.310415      7.228117    8.086988       5.066328   \n",
      "\n",
      "   release_year  genre_Action  genre_Action-Adventure  genre_Adventure  \\\n",
      "0          2003             0                       0                0   \n",
      "1          1991             0                       0                0   \n",
      "2          2005             0                       0                0   \n",
      "3          2010             0                       0                1   \n",
      "5          1999             0                       0                0   \n",
      "\n",
      "   genre_Board Game  ...  genre_Platform  genre_Puzzle  genre_Racing  \\\n",
      "0                 0  ...               0             0             0   \n",
      "1                 0  ...               0             0             0   \n",
      "2                 0  ...               0             1             0   \n",
      "3                 0  ...               0             0             0   \n",
      "5                 0  ...               0             0             0   \n",
      "\n",
      "   genre_Role-Playing  genre_Sandbox  genre_Shooter  genre_Simulation  \\\n",
      "0                   1              0              0                 0   \n",
      "1                   0              0              0                 1   \n",
      "2                   0              0              0                 0   \n",
      "3                   0              0              0                 0   \n",
      "5                   0              0              0                 0   \n",
      "\n",
      "   genre_Sports  genre_Strategy  genre_Visual Novel  \n",
      "0             0               0                   0  \n",
      "1             0               0                   0  \n",
      "2             0               0                   0  \n",
      "3             0               0                   0  \n",
      "5             0               1                   0  \n",
      "\n",
      "[5 rows x 26 columns]\n"
     ]
    }
   ],
   "source": [
    "import pandas as pd\n",
    "from sklearn.preprocessing import LabelEncoder\n",
    "from sklearn.ensemble import IsolationForest\n",
    "from scipy import sparse\n",
    "\n",
    "# Step 1: Load the dataset\n",
    "df_reg = pd.read_csv('Model\\VGChartzGamesSalesDataset.csv')\n",
    "\n",
    "# Step 2: Apply Label Encoding to the 'publisher' column\n",
    "le = LabelEncoder()\n",
    "df_reg['publisher'] = le.fit_transform(df_reg['publisher'])\n",
    "\n",
    "# Step 3: Convert 'release_date' to a usable format (extracting year)\n",
    "df_reg['release_year'] = pd.to_datetime(df_reg['release_date'], errors='coerce').dt.year\n",
    "df_reg = df_reg.drop('release_date', axis=1)\n",
    "\n",
    "# Step 4: Remove non-numeric columns like 'name' and 'img_url' if present\n",
    "if 'name' in df_reg.columns:\n",
    "    df_reg = df_reg.drop('name', axis=1)\n",
    "if 'img_url' in df_reg.columns:\n",
    "    df_reg = df_reg.drop('img_url', axis=1)\n",
    "\n",
    "# Step 5: One-Hot Encode the 'genre' column\n",
    "df_reg = pd.get_dummies(df_reg, columns=['genre'])\n",
    "\n",
    "# Step 6: Convert all boolean columns to integers (1 for True, 0 for False) if any remain\n",
    "bool_cols = df_reg.select_dtypes(include='bool').columns\n",
    "df_reg[bool_cols] = df_reg[bool_cols].astype(int)\n",
    "\n",
    "# Step 7: Handle missing values\n",
    "df_reg = df_reg.fillna(0)  # Fill missing values with 0\n",
    "\n",
    "# Step 9: Define features (X) and target (y)\n",
    "X_reg = df_reg.drop('total_sales', axis=1)  # Features\n",
    "y_reg = df_reg['total_sales']  # Target\n",
    "\n",
    "# Step 10: Convert the feature matrix into a sparse matrix to reduce memory usage\n",
    "X_sparse = sparse.csr_matrix(X_reg)\n",
    "\n",
    "# Step 11: Apply Isolation Forest for outlier detection\n",
    "iso_forest = IsolationForest(contamination=0.1, random_state=42)\n",
    "yhat_reg = iso_forest.fit_predict(X_sparse)\n",
    "\n",
    "# Step 12: Filter out the outliers (-1 means outlier, 1 means inlier)\n",
    "X_reg_no_outliers = X_reg[yhat_reg != -1]\n",
    "y_reg_no_outliers = y_reg[yhat_reg != -1]\n",
    "\n",
    "# Step 13: Display shape of the data before and after outlier removal\n",
    "print(f\"\\nShape of X_reg before outlier removal: {X_reg.shape}\")\n",
    "print(f\"Shape of X_reg after outlier removal: {X_reg_no_outliers.shape}\")\n",
    "\n",
    "# Optional: Display the first few rows of the cleaned data\n",
    "print(\"\\nFirst few rows of cleaned data:\\n\", X_reg_no_outliers.head())\n"
   ]
  }
 ],
 "metadata": {
  "kernelspec": {
   "display_name": "Python 3",
   "language": "python",
   "name": "python3"
  },
  "language_info": {
   "codemirror_mode": {
    "name": "ipython",
    "version": 3
   },
   "file_extension": ".py",
   "mimetype": "text/x-python",
   "name": "python",
   "nbconvert_exporter": "python",
   "pygments_lexer": "ipython3",
   "version": "3.9.13"
  }
 },
 "nbformat": 4,
 "nbformat_minor": 2
}
